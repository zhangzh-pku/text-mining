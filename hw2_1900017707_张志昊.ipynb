{
 "cells": [
  {
   "cell_type": "code",
   "execution_count": 32,
   "metadata": {},
   "outputs": [],
   "source": [
    "def viterbi(obs: list, states: dict, start_p: dict, trans_p: dict,\n",
    "            emit_p: dict) -> list:\n",
    "    min_prob = 1e-10\n",
    "    v = [{}]\n",
    "    res = []\n",
    "    for s in states:\n",
    "        v[0][s] = start_p[s] * emit_p[s].get(obs[0], min_prob)\n",
    "    for i in range(1, len(obs)):\n",
    "        v.append({})\n",
    "        for s in states:\n",
    "            max_prob = max(\n",
    "                v[i - 1][pre_state] * trans_p[pre_state].get(s, min_prob) *\n",
    "                emit_p[s].get(obs[i], min_prob) for pre_state in states)\n",
    "            v[i][s] = max_prob\n",
    "    for vector in v:\n",
    "        max_state = sorted(vector.items(), key=lambda k: k[1],\n",
    "                           reverse=True)[0][0]\n",
    "        res.append(max_state)\n",
    "    return res"
   ]
  },
  {
   "cell_type": "code",
   "execution_count": 33,
   "metadata": {},
   "outputs": [],
   "source": [
    "class HMMPOSTAG():\n",
    "    def __init__(self):\n",
    "        'model borrowed from https://github.com/liuhuanyong/HuanNLP'\n",
    "        trans_path = \"model/trans.model\"\n",
    "        emit_path = \"model/emit.model\"\n",
    "        start_path = \"model/start.model\"\n",
    "        try:\n",
    "            self.prob_trans = self.load_model(trans_path)\n",
    "            self.prob_emit = self.load_model(emit_path)\n",
    "            self.prob_start = self.load_model(start_path)\n",
    "        except FileNotFoundError:\n",
    "            print(\"warning: some model lost\")\n",
    "        self.state_list = [\n",
    "            'n', 'nt', 'nd', 'nl', 'nh', 'nhf', 'ns', 'nhs', 'nn', 'ni', 'nz',\n",
    "            'v', 'vd', 'vl', 'vu', 'a', 'f', 'm', 'mq', 'q', 'd', 'r', 'p',\n",
    "            'c', 'u', 'e', 'o', 'i', 'j', 'h', 'k', 'g', 'x', 'w', 'ws', 'wu'\n",
    "        ]\n",
    "\n",
    "    def __getattr__(self, __name: str):\n",
    "        if __name == \"prob_trans\":\n",
    "            print(\"warning: no trans model\")\n",
    "        if __name == \"prob_emit\":\n",
    "            print(\"warning: no emit model\")\n",
    "        if __name == \"prob_start\":\n",
    "            print(\"warning: no start model\")\n",
    "        return super().__getattr__(__name)\n",
    "\n",
    "    def load_model(self, path: str):\n",
    "        f = open(path, 'r')\n",
    "        a = f.read()\n",
    "        f.close()\n",
    "        return eval(a)\n",
    "\n",
    "    def pos_tag(self, word_list):\n",
    "        return viterbi(word_list, self.state_list, self.prob_start,\n",
    "                       self.prob_trans, self.prob_emit)\n"
   ]
  },
  {
   "cell_type": "markdown",
   "metadata": {},
   "source": [
    "# 词性对照表 \n",
    "\n",
    "| 标记 | 词性 | 标记 | 词性 | 标记 | 词性 | 标记 | 词性 |\n",
    "| --- | --- | --- | --- | --- | --- | --- | --- |\n",
    "| n | 普通名词 | nt | 时间名词 | nd | 方位名词 | nl | 处所名词 |\n",
    "| nh | 人名 | nhf | 姓 | nhs | 名 | ns | 地名 |\n",
    "| nn | 族名 | ni | 机构名 | nz | 其他专名 | v | 动词 |\n",
    "| vd | 趋向动词 | vl | 联系动词 | vu | 能愿动词 | a |  形容词 |\n",
    "| f | 区别词 | m | 数词 | q | 量词 | d | 副词 |\n",
    "| r | 代词 | p | 介词 | c | 连词 | u | 助词 |\n",
    "| e | 叹词 | o | 拟声词 | i | 习用语 | j | 缩略语 |\n",
    "| h | 前接成分 | k | 后接成分 | g | 语素字 | x | 非语素字 |\n",
    "| w | 标点符号 | ws | 非汉字字符串 | wu | 其他未知的符号 | -- | --- |  "
   ]
  },
  {
   "cell_type": "code",
   "execution_count": 34,
   "metadata": {},
   "outputs": [
    {
     "name": "stdout",
     "output_type": "stream",
     "text": [
      "['小熊维尼', '（', '英语', '：', 'Winnie', '-', 'the', '-', 'Pooh', '）', '是', '由', '英国', '作家', '艾伦', '·', '亚历山大', '·', '米', '恩', '和', '插', '画家', '欧内斯特', '·', '霍华德', '·', '谢培德', '创作', '的', '的', '拟人化', '泰迪熊', '[', '1', ']', '。', '这', '一卡通', '形象', '在', '1925', '年', '12', '月', '24', '日', '首次', '面世', '，', '以', '圣诞', '故事', '形式', '在', '伦敦', '《', '新闻晚报', '》', '刊出', '；', '第一本', '《', '小熊维尼', '》', '故事书', '于', '1926', '年', '10', '月', '出版', '。', '1961', '年', '，', '华特', '·', '迪士尼', '公司', '从米', '恩', '的', '遗产', '及其', '授权', '代理', '斯蒂芬', '·', '斯', '莱辛', '格', '公司', '那里', '获得', '了', '小熊维尼', '故事', '的', '某些', '著作权', '，', '并', '使用', '未加', '连', '字符', '的', '名字', '“', 'Winnie', ' ', 'the', ' ', 'Pooh', '”', '将', '这些', '故事', '改编', '成', '一系列', '的', '专题片', '。', '推出', '后', '因', '其', '可爱', '的', '外型', '与', '憨厚', '的', '个性', '，', '迅速', '成为', '世界', '知名', '的', '卡通', '角色', '之一', '，', '这', '一系列', '也', '成为', '了', '迪士尼', '最', '成功', '的', '特许', '经营项目', '之一', '。', '人们', '为了', '区别', '两种', '不同', '风格', '的', '维尼', '，', '称呼', '米尔', '恩', '时期', '由谢', '培德', '绘制', '的', '维尼为', '“', '经典', '维尼', '”', '（', 'Classic', ' ', 'Pooh', '）', '；', '而后', '全球', '粉丝', '便', '把', '米尔', '恩', '的', '生日', '（', '1', '月', '18', '日', '）', '推', '为', '国际', '小熊维尼', '日', '。']\n",
      "['r', 'w', 'n', 'w', 'v', 'w', 'v', 'w', 'v', 'w', 'vl', 'p', 'ns', 'n', 'w', 'w', 'nh', 'w', 'n', 'n', 'c', 'v', 'n', 'w', 'w', 'nh', 'w', 'v', 'v', 'u', 'u', 'n', 'w', 'n', 'm', 'q', 'w', 'r', 'v', 'n', 'p', 'n', 'nt', 'w', 'nt', 'w', 'nt', 'n', 'v', 'w', 'p', 'n', 'n', 'n', 'p', 'ns', 'w', 'v', 'w', 'n', 'n', 'n', 'n', 'n', 'n', 'n', 'n', 'n', 'n', 'n', 'n', 'n', 'n', 'n', 'n', 'n', 'n', 'n', 'n', 'n', 'n', 'n', 'n', 'n', 'n', 'n', 'n', 'n', 'n', 'n', 'n', 'n', 'n', 'n', 'n', 'n', 'n', 'n', 'n', 'n', 'n', 'n', 'n', 'n', 'n', 'n', 'n', 'n', 'n', 'n', 'n', 'n', 'n', 'n', 'n', 'n', 'n', 'n', 'n', 'n', 'n', 'n', 'n', 'n', 'n', 'n', 'n', 'n', 'n', 'n', 'n', 'n', 'n', 'n', 'n', 'n', 'n', 'n', 'n', 'n', 'n', 'n', 'n', 'n', 'n', 'n', 'n', 'n', 'n', 'n', 'n', 'n', 'n', 'n', 'n', 'n', 'n', 'n', 'n', 'n', 'n', 'n', 'n', 'n', 'n', 'n', 'n', 'n', 'n', 'n', 'n', 'n', 'n', 'n', 'n', 'n', 'n', 'n', 'n', 'n', 'n', 'n', 'n', 'n', 'n', 'n', 'n', 'n', 'n', 'n', 'n', 'n', 'n', 'n', 'n', 'n', 'n', 'n', 'n', 'n', 'n', 'n', 'n', 'n', 'n', 'n', 'n', 'n']\n"
     ]
    }
   ],
   "source": [
    "import jieba\n",
    "word = '小熊维尼（英语：Winnie-the-Pooh）是由英国作家艾伦·亚历山大·米恩和插画家欧内斯特·霍华德·谢培德创作的的拟人化泰迪熊[1]。这一卡通形象在1925年12月24日首次面世，以圣诞故事形式在伦敦《新闻晚报》刊出；第一本《小熊维尼》故事书于1926年10月出版。1961年，华特·迪士尼公司从米恩的遗产及其授权代理斯蒂芬·斯莱辛格公司那里获得了小熊维尼故事的某些著作权，并使用未加连字符的名字“Winnie the Pooh”将这些故事改编成一系列的专题片。推出后因其可爱的外型与憨厚的个性，迅速成为世界知名的卡通角色之一，这一系列也成为了迪士尼最成功的特许经营项目之一。人们为了区别两种不同风格的维尼，称呼米尔恩时期由谢培德绘制的维尼为“经典维尼”（Classic Pooh）；而后全球粉丝便把米尔恩的生日（1月18日）推为国际小熊维尼日。'\n",
    "word_list = list(jieba.cut(word))\n",
    "tager = HMMPOSTAG()\n",
    "res = tager.pos_tag(word_list)\n",
    "print(word_list)\n",
    "print(res)"
   ]
  },
  {
   "cell_type": "code",
   "execution_count": null,
   "metadata": {},
   "outputs": [],
   "source": []
  }
 ],
 "metadata": {
  "kernelspec": {
   "display_name": "Python 3.9.7 ('base')",
   "language": "python",
   "name": "python3"
  },
  "language_info": {
   "codemirror_mode": {
    "name": "ipython",
    "version": 3
   },
   "file_extension": ".py",
   "mimetype": "text/x-python",
   "name": "python",
   "nbconvert_exporter": "python",
   "pygments_lexer": "ipython3",
   "version": "3.9.7"
  },
  "orig_nbformat": 4,
  "vscode": {
   "interpreter": {
    "hash": "a77a64eb64cc053e723c08c547c699307a957e643bb8f2d60bc0ff231ebd29e3"
   }
  }
 },
 "nbformat": 4,
 "nbformat_minor": 2
}
