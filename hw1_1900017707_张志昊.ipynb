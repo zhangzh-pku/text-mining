{
 "cells": [
  {
   "cell_type": "code",
   "execution_count": 16,
   "metadata": {},
   "outputs": [],
   "source": [
    "#读取字典数据，取自https://github.com/fxsjy/jieba/tree/master/extra_dict\n",
    "f = open('dict.txt',encoding='utf-8')\n",
    "content = []\n",
    "for line in f.readlines():\n",
    "    line_list = line.strip(\"\\n\").split(\" \")\n",
    "    content.append(line_list[0])\n",
    "\n",
    "max_length = len(max(content,key=len,default=''))\n"
   ]
  },
  {
   "cell_type": "code",
   "execution_count": 17,
   "metadata": {},
   "outputs": [
    {
     "name": "stdout",
     "output_type": "stream",
     "text": [
      "15\n"
     ]
    }
   ],
   "source": [
    "#前向最大匹配算法\n",
    "def forword_cut(string:str,word_list:list,max_length:int)->list:\n",
    "    ans = []\n",
    "    word_dict = {word : True for word in word_list}\n",
    "    begin = 0\n",
    "    while begin <= len(string):\n",
    "        \n",
    "    return ans\n"
   ]
  },
  {
   "cell_type": "code",
   "execution_count": null,
   "metadata": {},
   "outputs": [],
   "source": []
  },
  {
   "cell_type": "code",
   "execution_count": null,
   "metadata": {},
   "outputs": [],
   "source": []
  }
 ],
 "metadata": {
  "kernelspec": {
   "display_name": "Python 3.9.7 ('base')",
   "language": "python",
   "name": "python3"
  },
  "language_info": {
   "codemirror_mode": {
    "name": "ipython",
    "version": 3
   },
   "file_extension": ".py",
   "mimetype": "text/x-python",
   "name": "python",
   "nbconvert_exporter": "python",
   "pygments_lexer": "ipython3",
   "version": "3.9.7"
  },
  "orig_nbformat": 4,
  "vscode": {
   "interpreter": {
    "hash": "a77a64eb64cc053e723c08c547c699307a957e643bb8f2d60bc0ff231ebd29e3"
   }
  }
 },
 "nbformat": 4,
 "nbformat_minor": 2
}
