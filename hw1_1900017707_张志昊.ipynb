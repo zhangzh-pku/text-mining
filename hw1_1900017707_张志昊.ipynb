{
 "cells": [
  {
   "cell_type": "code",
   "execution_count": 50,
   "metadata": {},
   "outputs": [],
   "source": [
    "#读取字典数据，取自https://github.com/fxsjy/jieba/tree/master/extra_dict\n",
    "f = open('dict.txt',encoding='utf-8')\n",
    "content_dict = {}\n",
    "max_length = 0\n",
    "for line in f.readlines():\n",
    "    line_list = line.strip(\"\\n\").split(\" \")\n",
    "    content_dict[line_list[0]]=True\n",
    "    max_length = max(max_length,len(line_list[0]))\n"
   ]
  },
  {
   "cell_type": "code",
   "execution_count": 51,
   "metadata": {},
   "outputs": [],
   "source": [
    "#前向最大匹配算法\n",
    "def forword_cut(cut_string:str, word_dict:dict, max_length:int)->list:\n",
    "    ans = []\n",
    "    pos = 0\n",
    "    l = len(cut_string)\n",
    "    while pos < l:\n",
    "        i = min(max_length,l-pos)\n",
    "        while i >= 1:\n",
    "            Slice = cut_string[pos:pos+i]\n",
    "            if Slice in word_dict:\n",
    "                ans.append(Slice)\n",
    "                break\n",
    "            i = i - 1\n",
    "        pos = pos + max(i,1)\n",
    "    return ans\n",
    "\n",
    "\n"
   ]
  },
  {
   "cell_type": "code",
   "execution_count": 52,
   "metadata": {},
   "outputs": [
    {
     "name": "stdout",
     "output_type": "stream",
     "text": [
      "['渴望', '自己', '能', '在', '空中', '自由', '飞翔', '可', '就算', '这个', '愿望', '能够', '实现', '这', '就是', '幸福', '吗', '就', '可以', '给', '你', '带来', '快乐', '吗', '其实', '没', '人', '知道', '当', '我们', '在', '鸟笼', '中', '渴望', '飞', '向', '蓝天', '我们', '会', '最大', '限度', '地利', '用', '现在', '所谓', '的', '自由', '有限', '的', '自由', '其实', '这个', '时候', '才', '是', '最', '自由', '的', '时候', '才', '是', '自由', '的', '真正', '的', '含义', '就业', '结婚', '法律', '道德', '这些', '繁琐', '的', '约束', '被', '固定', '了', '的', '道路', '我们', '只有', '在', '这些', '约束', '中', '追求', '自由', '才', '有意', '义']\n"
     ]
    }
   ],
   "source": [
    "string = '渴望自己能在空中自由飞翔。可就算这个愿望能够实现，这就是幸福吗？就可以给你带来快乐吗？其实没人知道。当我们在鸟笼中渴望飞向蓝天，我们会最大限度地利用现在所谓的自由，有限的自由，其实这个时候才是最自由的时候，才是自由的真正的含义。就业、结婚、法律、道德。这些繁琐的约束，被固定了的道路，我们只有在这些约束中追求自由才有意义。'\n",
    "r = forword_cut(cut_string=string,word_dict=content_dict,max_length=max_length)\n",
    "print(r)"
   ]
  },
  {
   "cell_type": "code",
   "execution_count": 53,
   "metadata": {},
   "outputs": [],
   "source": [
    "#逆向最大匹配\n",
    "def back_cut(cut_string:str, word_dict:dict, max_length:int)->list:\n",
    "    ans = []\n",
    "    pos = len(cut_string)\n",
    "    while pos >=0:\n",
    "        i = max_length\n",
    "        while i >= 1:\n",
    "            Slice = cut_string[pos-i:pos]\n",
    "            if Slice in word_dict:\n",
    "                ans.append(Slice)\n",
    "                break\n",
    "            i = i - 1\n",
    "        pos = pos -max(i,1)\n",
    "    return ans[::-1]"
   ]
  },
  {
   "cell_type": "code",
   "execution_count": 54,
   "metadata": {},
   "outputs": [
    {
     "name": "stdout",
     "output_type": "stream",
     "text": [
      "['渴望', '自己', '能', '在', '空中', '自由', '飞翔', '可', '就算', '这个', '愿望', '能够', '实现', '这', '就是', '幸福', '吗', '就', '可以', '给', '你', '带来', '快乐', '吗', '其实', '没', '人', '知道', '当', '我们', '在', '鸟笼', '中', '渴望', '飞', '向', '蓝天', '我们', '会', '最', '大限度', '地', '利用', '现在', '所谓', '的', '自由', '有限', '的', '自由', '其实', '这个', '时候', '才', '是', '最', '自由', '的', '时候', '才', '是', '自由', '的', '真正', '的', '含义', '就业', '结婚', '法律', '道德', '这些', '繁琐', '的', '约束', '被', '固定', '了', '的', '道路', '我们', '只有', '在', '这些', '约束', '中', '追求', '自由', '才', '有', '意义']\n"
     ]
    }
   ],
   "source": [
    "print(back_cut(cut_string=string,word_dict=content_dict,max_length=max_length))"
   ]
  },
  {
   "cell_type": "markdown",
   "metadata": {},
   "source": [
    "## 代码分析\n",
    "### "
   ]
  }
 ],
 "metadata": {
  "kernelspec": {
   "display_name": "Python 3.9.7 ('base')",
   "language": "python",
   "name": "python3"
  },
  "language_info": {
   "codemirror_mode": {
    "name": "ipython",
    "version": 3
   },
   "file_extension": ".py",
   "mimetype": "text/x-python",
   "name": "python",
   "nbconvert_exporter": "python",
   "pygments_lexer": "ipython3",
   "version": "3.9.7"
  },
  "orig_nbformat": 4,
  "vscode": {
   "interpreter": {
    "hash": "a77a64eb64cc053e723c08c547c699307a957e643bb8f2d60bc0ff231ebd29e3"
   }
  }
 },
 "nbformat": 4,
 "nbformat_minor": 2
}
