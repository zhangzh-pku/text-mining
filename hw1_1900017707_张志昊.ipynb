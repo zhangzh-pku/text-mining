{
 "cells": [
  {
   "cell_type": "code",
   "execution_count": 4,
   "metadata": {},
   "outputs": [],
   "source": [
    "#读取字典数据，取自https://github.com/fxsjy/jieba/tree/master/extra_dict\n",
    "f = open('dict.txt',encoding='utf-8')\n",
    "content_dict = {}\n",
    "max_length = 0\n",
    "for line in f.readlines():\n",
    "    line_list = line.strip(\"\\n\").split(\" \")\n",
    "    content_dict[line_list[0]]=True\n",
    "    max_length = max(max_length,len(line_list[0]))\n"
   ]
  },
  {
   "cell_type": "code",
   "execution_count": 26,
   "metadata": {},
   "outputs": [],
   "source": [
    "#前向最大匹配算法\n",
    "def forword_cut(cut_string:str, word_dict:dict, max_length:int)->list:\n",
    "    ans = []\n",
    "    pos = 0\n",
    "    l = len(cut_string)\n",
    "    while pos < l:\n",
    "        i = min(max_length,l-pos)\n",
    "        while i >= 1:\n",
    "            Slice = cut_string[pos:pos+i]\n",
    "            if Slice in word_dict:\n",
    "                ans.append(Slice)\n",
    "                break\n",
    "            i = i - 1\n",
    "        pos = pos + max(i,1)\n",
    "    return ans\n",
    "\n",
    "\n"
   ]
  },
  {
   "cell_type": "code",
   "execution_count": 31,
   "metadata": {},
   "outputs": [
    {
     "name": "stdout",
     "output_type": "stream",
     "text": [
      "['我', '是', '馊', '掉', '的', '橙子', '汁', '和', '浓', '汤', '我', '是', '爬', '满', '虫卵', '的', '玫瑰', '和', '百合', '我', '是', '一个', '灯火', '流', '丽', '的', '都市', '里', '明明', '存在', '却', '没有', '人', '看', '得到', '也', '没有', '人', '需要', '的', '北极星']\n"
     ]
    }
   ],
   "source": [
    "string = '我是馊掉的橙子汁和浓汤，我是爬满虫卵的玫瑰和百合，我是一个灯火流丽的都市里明明存在却没有人看得到也没有人需要的北极星'\n",
    "r = forword_cut(cut_string=string,word_dict=content_dict,max_length=max_length)\n",
    "print(r)"
   ]
  },
  {
   "cell_type": "code",
   "execution_count": null,
   "metadata": {},
   "outputs": [],
   "source": [
    "#后向分词\n",
    "def back_cut(cut_string:str, word_dict:dict, max_length:int)->list:\n",
    "    ans = []\n",
    "    pos = len(cut_string)\n",
    "    while pos >=0:\n",
    "        i = max_length\n",
    "        while i >= 1:\n",
    "            Slice = cut_string[pos-i:pos]\n",
    "            if Slice in word_dict:\n",
    "                ans.append(Slice)\n",
    "                break\n",
    "            i = i - 1\n",
    "        pos = pos -max(i,1)"
   ]
  }
 ],
 "metadata": {
  "kernelspec": {
   "display_name": "Python 3.9.7 ('base')",
   "language": "python",
   "name": "python3"
  },
  "language_info": {
   "codemirror_mode": {
    "name": "ipython",
    "version": 3
   },
   "file_extension": ".py",
   "mimetype": "text/x-python",
   "name": "python",
   "nbconvert_exporter": "python",
   "pygments_lexer": "ipython3",
   "version": "3.9.7"
  },
  "orig_nbformat": 4,
  "vscode": {
   "interpreter": {
    "hash": "a77a64eb64cc053e723c08c547c699307a957e643bb8f2d60bc0ff231ebd29e3"
   }
  }
 },
 "nbformat": 4,
 "nbformat_minor": 2
}
